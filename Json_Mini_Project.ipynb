{
 "cells": [
  {
   "cell_type": "code",
   "execution_count": 239,
   "metadata": {},
   "outputs": [],
   "source": [
    "# Import necessary modules\n",
    "import pandas as pd"
   ]
  },
  {
   "cell_type": "code",
   "execution_count": 201,
   "metadata": {
    "scrolled": true
   },
   "outputs": [
    {
     "name": "stdout",
     "output_type": "stream",
     "text": [
      "                                              sector supplementprojectflg  \\\n",
      "0  [{'Name': 'Primary education'}, {'Name': 'Seco...                    N   \n",
      "1  [{'Name': 'Public administration- Other social...                    N   \n",
      "2  [{'Name': 'Rural and Inter-Urban Roads and Hig...                    Y   \n",
      "3                [{'Name': 'Other social services'}]                    N   \n",
      "4  [{'Name': 'General industry and trade sector'}...                    N   \n",
      "\n",
      "  projectfinancialtype prodline  \\\n",
      "0                  IDA       PE   \n",
      "1                OTHER       RE   \n",
      "2                  IDA       PE   \n",
      "3                OTHER       RE   \n",
      "4                  IDA       PE   \n",
      "\n",
      "                                             mjtheme  idacommamt  \\\n",
      "0                                [Human development]   130000000   \n",
      "1  [Economic management, Social protection and ri...           0   \n",
      "2  [Trade and integration, Public sector governan...     6060000   \n",
      "3  [Social dev/gender/inclusion, Social dev/gende...           0   \n",
      "4  [Trade and integration, Financial and private ...    13100000   \n",
      "\n",
      "                                  impagency  \\\n",
      "0                     MINISTRY OF EDUCATION   \n",
      "1                       MINISTRY OF FINANCE   \n",
      "2  MINISTRY OF TRANSPORT AND COMMUNICATIONS   \n",
      "3  LABOR INTENSIVE PUBLIC WORKS PROJECT PMU   \n",
      "4            MINISTRY OF TRADE AND INDUSTRY   \n",
      "\n",
      "                                        project_name mjthemecode  \\\n",
      "0  Ethiopia General Education Quality Improvement...        8,11   \n",
      "1          TN: DTF Social Protection Reforms Support         1,6   \n",
      "2  Tuvalu Aviation Investment Project - Additiona...    5,2,11,6   \n",
      "3   Gov't and Civil Society Organization Partnership         7,7   \n",
      "4  Second Private Sector Competitiveness and Econ...         5,4   \n",
      "\n",
      "            closingdate  ...  \\\n",
      "0  2018-07-07T00:00:00Z  ...   \n",
      "1                   NaN  ...   \n",
      "2                   NaN  ...   \n",
      "3                   NaN  ...   \n",
      "4  2019-04-30T00:00:00Z  ...   \n",
      "\n",
      "                                 majorsector_percent board_approval_month  \\\n",
      "0  [{'Percent': 46, 'Name': 'Education'}, {'Perce...             November   \n",
      "1  [{'Percent': 70, 'Name': 'Public Administratio...             November   \n",
      "2       [{'Percent': 100, 'Name': 'Transportation'}]             November   \n",
      "3  [{'Percent': 100, 'Name': 'Health and other so...              October   \n",
      "4  [{'Percent': 50, 'Name': 'Industry and trade'}...              October   \n",
      "\n",
      "                                      theme_namecode  \\\n",
      "0      [{'code': '65', 'name': 'Education for all'}]   \n",
      "1  [{'code': '24', 'name': 'Other economic manage...   \n",
      "2  [{'code': '47', 'name': 'Regional integration'...   \n",
      "3  [{'code': '57', 'name': 'Participation and civ...   \n",
      "4  [{'code': '45', 'name': 'Export development an...   \n",
      "\n",
      "                               countryname  \\\n",
      "0  Federal Democratic Republic of Ethiopia   \n",
      "1                      Republic of Tunisia   \n",
      "2                                   Tuvalu   \n",
      "3                        Republic of Yemen   \n",
      "4                       Kingdom of Lesotho   \n",
      "\n",
      "                                                 url source  \\\n",
      "0  http://www.worldbank.org/projects/P129828/ethi...   IBRD   \n",
      "1  http://www.worldbank.org/projects/P144674?lang=en   IBRD   \n",
      "2  http://www.worldbank.org/projects/P145310?lang=en   IBRD   \n",
      "3  http://www.worldbank.org/projects/P144665?lang=en   IBRD   \n",
      "4  http://www.worldbank.org/projects/P144933/seco...   IBRD   \n",
      "\n",
      "  projectstatusdisplay ibrdcommamt  \\\n",
      "0               Active           0   \n",
      "1               Active           0   \n",
      "2               Active           0   \n",
      "3               Active           0   \n",
      "4               Active           0   \n",
      "\n",
      "                                     sector_namecode  \\\n",
      "0  [{'code': 'EP', 'name': 'Primary education'}, ...   \n",
      "1  [{'code': 'BS', 'name': 'Public administration...   \n",
      "2  [{'code': 'TI', 'name': 'Rural and Inter-Urban...   \n",
      "3  [{'code': 'JB', 'name': 'Other social services'}]   \n",
      "4  [{'code': 'YZ', 'name': 'General industry and ...   \n",
      "\n",
      "                                    _id  \n",
      "0  {'$oid': '52b213b38594d8a2be17c780'}  \n",
      "1  {'$oid': '52b213b38594d8a2be17c781'}  \n",
      "2  {'$oid': '52b213b38594d8a2be17c782'}  \n",
      "3  {'$oid': '52b213b38594d8a2be17c783'}  \n",
      "4  {'$oid': '52b213b38594d8a2be17c784'}  \n",
      "\n",
      "[5 rows x 50 columns]\n"
     ]
    }
   ],
   "source": [
    "# Load in json file and print the first 5 rows of df \n",
    "df=pd.read_json('C:/Users/hantao/Desktop/data analysis project/Springboard_JsonProject/data_wrangling_json/data/world_bank_projects.json')\n",
    "print(df.head())"
   ]
  },
  {
   "cell_type": "code",
   "execution_count": 202,
   "metadata": {},
   "outputs": [
    {
     "name": "stdout",
     "output_type": "stream",
     "text": [
      "Index(['sector', 'supplementprojectflg', 'projectfinancialtype', 'prodline',\n",
      "       'mjtheme', 'idacommamt', 'impagency', 'project_name', 'mjthemecode',\n",
      "       'closingdate', 'totalcommamt', 'id', 'mjsector_namecode', 'docty',\n",
      "       'sector1', 'lendinginstr', 'countrycode', 'sector2', 'totalamt',\n",
      "       'mjtheme_namecode', 'boardapprovaldate', 'countryshortname', 'sector4',\n",
      "       'prodlinetext', 'productlinetype', 'regionname', 'status',\n",
      "       'country_namecode', 'envassesmentcategorycode', 'project_abstract',\n",
      "       'approvalfy', 'projectdocs', 'lendprojectcost', 'lendinginstrtype',\n",
      "       'theme1', 'grantamt', 'themecode', 'borrower', 'sectorcode', 'sector3',\n",
      "       'majorsector_percent', 'board_approval_month', 'theme_namecode',\n",
      "       'countryname', 'url', 'source', 'projectstatusdisplay', 'ibrdcommamt',\n",
      "       'sector_namecode', '_id'],\n",
      "      dtype='object')\n"
     ]
    }
   ],
   "source": [
    "# Print keys of the df\n",
    "keys=df.keys()\n",
    "print(keys)"
   ]
  },
  {
   "cell_type": "code",
   "execution_count": 203,
   "metadata": {},
   "outputs": [
    {
     "name": "stdout",
     "output_type": "stream",
     "text": [
      "People's Republic of China 19\n",
      "Republic of Indonesia 19\n",
      "Socialist Republic of Vietnam 17\n",
      "Republic of India 16\n",
      "Republic of Yemen 13\n",
      "Kingdom of Morocco 12\n",
      "Nepal 12\n",
      "People's Republic of Bangladesh 12\n",
      "Republic of Mozambique 11\n",
      "Africa 11\n"
     ]
    }
   ],
   "source": [
    "# Create new dic and counts the appearance of each country from df\n",
    "dic={}\n",
    "for country in df['countryname']:\n",
    "    if country not in dic.keys():\n",
    "        dic[country]=1\n",
    "    else:\n",
    "        dic[country]=dic[country]+1\n",
    "# Sort the dic\n",
    "sort_dic=sorted(dic.items(), key=lambda x:x[1],reverse=True)\n",
    "# Print the 10 countries with most projects \n",
    "for country, counts in sort_dic[0:10]:\n",
    "    print(country,counts)"
   ]
  },
  {
   "cell_type": "code",
   "execution_count": 266,
   "metadata": {},
   "outputs": [
    {
     "name": "stdout",
     "output_type": "stream",
     "text": [
      "{'8': 'Human development', '11': 'Human development', '1': 'Economic management', '6': 'Social protection and risk management', '5': 'Trade and integration', '2': 'Public sector governance', '7': 'Social dev/gender/inclusion', '4': 'Financial and private sector development', '10': 'Rural development', '9': 'Urban development', '3': 'Rule of law'}\n",
      "0      [{'code': '8', 'name': 'Human development'}, {...\n",
      "1      [{'code': '1', 'name': 'Economic management'},...\n",
      "2      [{'code': '5', 'name': 'Trade and integration'...\n",
      "3      [{'code': '7', 'name': 'Social dev/gender/incl...\n",
      "4      [{'code': '5', 'name': 'Trade and integration'...\n",
      "                             ...                        \n",
      "495    [{'code': '4', 'name': 'Financial and private ...\n",
      "496    [{'code': '8', 'name': 'Human development'}, {...\n",
      "497    [{'code': '10', 'name': 'Rural development'}, ...\n",
      "498    [{'code': '10', 'name': 'Rural development'}, ...\n",
      "499    [{'code': '9', 'name': 'Urban development'}, {...\n",
      "Name: mjtheme_namecode, Length: 500, dtype: object\n"
     ]
    }
   ],
   "source": [
    "project=df.mjtheme_namecode\n",
    "# Create a dictionary for filling na \n",
    "nadic={}\n",
    "for i in project:\n",
    "    for j in i:    \n",
    "        if j['code'] not in nadic and j['name']!= '':\n",
    "            nadic[j['code']]=j['name']\n",
    "        else:\n",
    "            pass  \n",
    "print (nadic)\n",
    "# Fill in NA values\n",
    "series=pd.Series(df.mjtheme_namecode)\n",
    "for i in range(len(series)):\n",
    "    if series[i][0]['name']=='':\n",
    "        series[i][0]['name']=nadic[series[i][0]['code']]\n",
    "print(series)"
   ]
  },
  {
   "cell_type": "code",
   "execution_count": 297,
   "metadata": {},
   "outputs": [
    {
     "name": "stdout",
     "output_type": "stream",
     "text": [
      "{'Human development': 198, 'Economic management': 33, 'Social protection and risk management': 159, 'Trade and integration': 72, 'Public sector governance': 186, 'Environment and natural resources management': 227, 'Social dev/gender/inclusion': 120, 'Financial and private sector development': 131, 'Rural development': 205, '': 108, 'Urban development': 48, 'Rule of law': 12}\n"
     ]
    }
   ],
   "source": [
    "# Find the top 10 project themes\n",
    "new={}\n",
    "for i in series:\n",
    "    for j in i:\n",
    "        if j['name'] not in new:\n",
    "            new[j['name']]=1\n",
    "        else:\n",
    "            new[j['name']]=new[j['name']]+1\n",
    "print(new)"
   ]
  }
 ],
 "metadata": {
  "kernelspec": {
   "display_name": "Python 3",
   "language": "python",
   "name": "python3"
  },
  "language_info": {
   "codemirror_mode": {
    "name": "ipython",
    "version": 3
   },
   "file_extension": ".py",
   "mimetype": "text/x-python",
   "name": "python",
   "nbconvert_exporter": "python",
   "pygments_lexer": "ipython3",
   "version": "3.7.4"
  }
 },
 "nbformat": 4,
 "nbformat_minor": 2
}
